{
 "cells": [
  {
   "cell_type": "markdown",
   "id": "a700cd5a-091d-431e-9925-eeeba8ce0094",
   "metadata": {},
   "source": [
    "# CNN's"
   ]
  },
  {
   "cell_type": "code",
   "execution_count": 26,
   "id": "bde0441b-8a4e-4775-b962-75489d7145a7",
   "metadata": {},
   "outputs": [],
   "source": [
    "import tensorflow as tf\n",
    "from tensorflow.keras.preprocessing.image import ImageDataGenerator\n",
    "import matplotlib.pyplot as plt"
   ]
  },
  {
   "cell_type": "code",
   "execution_count": 5,
   "id": "57c5af43-ee63-49fe-8fe5-343ae2cc16b8",
   "metadata": {},
   "outputs": [],
   "source": [
    "tf.random.set_seed(42)"
   ]
  },
  {
   "cell_type": "code",
   "execution_count": 20,
   "id": "07decfb1-84f0-4d58-a5b7-f66f91b2fb9c",
   "metadata": {},
   "outputs": [],
   "source": [
    "# Preprocess data (get all of the pixel values between 1 and 0, also called scaling/normalization)\n",
    "train_datagen = ImageDataGenerator(rescale=1./255)\n",
    "valid_datagen = ImageDataGenerator(rescale=1./255)\n",
    "test_datagen = ImageDataGenerator(rescale=1./255)\n",
    "\n",
    "# Setup the train and test directories\n",
    "train_dir = \"course_data/pizza_steak/train/\"\n",
    "test_dir = \"course_data/pizza_steak/test/\""
   ]
  },
  {
   "cell_type": "code",
   "execution_count": 21,
   "id": "fe6e5ed7-d4b5-423a-97da-ef8e4ce686f9",
   "metadata": {},
   "outputs": [
    {
     "name": "stdout",
     "output_type": "stream",
     "text": [
      "Found 1500 images belonging to 2 classes.\n",
      "Found 500 images belonging to 2 classes.\n",
      "Found 500 images belonging to 2 classes.\n"
     ]
    }
   ],
   "source": [
    "# import data and turn it into batches\n",
    "train_data = train_datagen.flow_from_directory(train_dir,\n",
    "                                               batch_size=32,\n",
    "                                               target_size=(224,224),\n",
    "                                               class_mode='binary',\n",
    "                                               seed=42)\n",
    "\n",
    "valid_data = valid_datagen.flow_from_directory(test_dir,\n",
    "                                               batch_size=32,\n",
    "                                               target_size=(224,224),\n",
    "                                               class_mode='binary',\n",
    "                                               seed=42)\n",
    "\n",
    "test_data = test_datagen.flow_from_directory(test_dir,\n",
    "                                               batch_size=32,\n",
    "                                               target_size=(224,224),\n",
    "                                               class_mode='binary',\n",
    "                                               seed=42)\n"
   ]
  },
  {
   "cell_type": "code",
   "execution_count": 10,
   "id": "b4a0b832-82d3-470c-a64f-457cf014192e",
   "metadata": {},
   "outputs": [
    {
     "name": "stdout",
     "output_type": "stream",
     "text": [
      "Epoch 1/5\n"
     ]
    },
    {
     "name": "stderr",
     "output_type": "stream",
     "text": [
      "2022-04-02 00:45:35.430580: I tensorflow/stream_executor/cuda/cuda_dnn.cc:377] Loaded cuDNN version 8302\n"
     ]
    },
    {
     "name": "stdout",
     "output_type": "stream",
     "text": [
      "47/47 [==============================] - 14s 138ms/step - loss: 0.6129 - accuracy: 0.7033 - val_loss: 0.4878 - val_accuracy: 0.7460\n",
      "Epoch 2/5\n",
      "47/47 [==============================] - 6s 125ms/step - loss: 0.4348 - accuracy: 0.8013 - val_loss: 0.3987 - val_accuracy: 0.8360\n",
      "Epoch 3/5\n",
      "47/47 [==============================] - 6s 117ms/step - loss: 0.3873 - accuracy: 0.8333 - val_loss: 0.3300 - val_accuracy: 0.8640\n",
      "Epoch 4/5\n",
      "47/47 [==============================] - 6s 125ms/step - loss: 0.3579 - accuracy: 0.8447 - val_loss: 0.3012 - val_accuracy: 0.8740\n",
      "Epoch 5/5\n",
      "47/47 [==============================] - 6s 116ms/step - loss: 0.3155 - accuracy: 0.8773 - val_loss: 0.2975 - val_accuracy: 0.8860\n"
     ]
    }
   ],
   "source": [
    "# create the model\n",
    "model_1 = tf.keras.models.Sequential([\n",
    "    tf.keras.layers.Conv2D(filters=10,\n",
    "                           kernel_size=3,\n",
    "                           activation='relu',\n",
    "                           input_shape=(224,224,3)),\n",
    "    tf.keras.layers.Conv2D(10, 3, activation='relu'),\n",
    "    tf.keras.layers.MaxPool2D(pool_size=2,\n",
    "                              padding='valid'),\n",
    "    tf.keras.layers.Conv2D(10, 3, activation=\"relu\"),\n",
    "    tf.keras.layers.Conv2D(10, 3, activation=\"relu\"),\n",
    "    tf.keras.layers.MaxPool2D(2),\n",
    "    tf.keras.layers.Flatten(),\n",
    "    tf.keras.layers.Dense(1, activation='sigmoid') # for binary classification problems \n",
    "])\n",
    "\n",
    "# compile the model\n",
    "model_1.compile(loss='binary_crossentropy',\n",
    "                optimizer=tf.keras.optimizers.Adam(),\n",
    "                metrics=['accuracy']\n",
    ")\n",
    "\n",
    "# fit the model\n",
    "history_1 = model_1.fit(train_data, \n",
    "                        epochs=5,\n",
    "                        steps_per_epoch=len(train_data),\n",
    "                        validation_data=valid_data,\n",
    "                        validation_steps=len(valid_data))\n"
   ]
  },
  {
   "cell_type": "code",
   "execution_count": 11,
   "id": "c3b48ad5-d365-4a07-8399-4ea7fd659713",
   "metadata": {},
   "outputs": [
    {
     "name": "stdout",
     "output_type": "stream",
     "text": [
      "Model: \"sequential_1\"\n",
      "_________________________________________________________________\n",
      " Layer (type)                Output Shape              Param #   \n",
      "=================================================================\n",
      " conv2d_4 (Conv2D)           (None, 222, 222, 10)      280       \n",
      "                                                                 \n",
      " conv2d_5 (Conv2D)           (None, 220, 220, 10)      910       \n",
      "                                                                 \n",
      " max_pooling2d_2 (MaxPooling  (None, 110, 110, 10)     0         \n",
      " 2D)                                                             \n",
      "                                                                 \n",
      " conv2d_6 (Conv2D)           (None, 108, 108, 10)      910       \n",
      "                                                                 \n",
      " conv2d_7 (Conv2D)           (None, 106, 106, 10)      910       \n",
      "                                                                 \n",
      " max_pooling2d_3 (MaxPooling  (None, 53, 53, 10)       0         \n",
      " 2D)                                                             \n",
      "                                                                 \n",
      " flatten_1 (Flatten)         (None, 28090)             0         \n",
      "                                                                 \n",
      " dense_1 (Dense)             (None, 1)                 28091     \n",
      "                                                                 \n",
      "=================================================================\n",
      "Total params: 31,101\n",
      "Trainable params: 31,101\n",
      "Non-trainable params: 0\n",
      "_________________________________________________________________\n"
     ]
    }
   ],
   "source": [
    "model_1.summary()"
   ]
  },
  {
   "cell_type": "code",
   "execution_count": 12,
   "id": "78cdbc5e-cd5f-4fdb-825c-c1b6fafec3cf",
   "metadata": {},
   "outputs": [
    {
     "name": "stdout",
     "output_type": "stream",
     "text": [
      "Epoch 1/5\n",
      "47/47 [==============================] - 6s 119ms/step - loss: 0.9940 - accuracy: 0.4967 - val_loss: 0.6932 - val_accuracy: 0.5000\n",
      "Epoch 2/5\n",
      "47/47 [==============================] - 6s 118ms/step - loss: 0.6932 - accuracy: 0.5000 - val_loss: 0.6932 - val_accuracy: 0.5000\n",
      "Epoch 3/5\n",
      "47/47 [==============================] - 5s 116ms/step - loss: 0.6932 - accuracy: 0.5000 - val_loss: 0.6932 - val_accuracy: 0.5000\n",
      "Epoch 4/5\n",
      "47/47 [==============================] - 6s 124ms/step - loss: 0.6932 - accuracy: 0.5000 - val_loss: 0.6932 - val_accuracy: 0.5000\n",
      "Epoch 5/5\n",
      "47/47 [==============================] - 6s 120ms/step - loss: 0.6932 - accuracy: 0.5000 - val_loss: 0.6931 - val_accuracy: 0.5000\n"
     ]
    }
   ],
   "source": [
    "# previous model\n",
    "# Set random seed\n",
    "tf.random.set_seed(42)\n",
    "\n",
    "# Create a model to replicate the TensorFlow Playground model\n",
    "model_2 = tf.keras.Sequential([\n",
    "  tf.keras.layers.Flatten(input_shape=(224, 224, 3)), # dense layers expect a 1-dimensional vector as input\n",
    "  tf.keras.layers.Dense(4, activation='relu'),\n",
    "  tf.keras.layers.Dense(4, activation='relu'),\n",
    "  tf.keras.layers.Dense(1, activation='sigmoid')\n",
    "])\n",
    "\n",
    "# Compile the model\n",
    "model_2.compile(loss='binary_crossentropy',\n",
    "              optimizer=tf.keras.optimizers.Adam(),\n",
    "              metrics=[\"accuracy\"])\n",
    "\n",
    "# Fit the model\n",
    "history_2 = model_2.fit(train_data, # use same training data created above\n",
    "                        epochs=5,\n",
    "                        steps_per_epoch=len(train_data),\n",
    "                        validation_data=valid_data, # use same validation data created above\n",
    "                        validation_steps=len(valid_data))"
   ]
  },
  {
   "cell_type": "code",
   "execution_count": 13,
   "id": "dc865b33-2838-4965-8a2d-95a3f8e65202",
   "metadata": {},
   "outputs": [
    {
     "name": "stdout",
     "output_type": "stream",
     "text": [
      "Model: \"sequential_2\"\n",
      "_________________________________________________________________\n",
      " Layer (type)                Output Shape              Param #   \n",
      "=================================================================\n",
      " flatten_2 (Flatten)         (None, 150528)            0         \n",
      "                                                                 \n",
      " dense_2 (Dense)             (None, 4)                 602116    \n",
      "                                                                 \n",
      " dense_3 (Dense)             (None, 4)                 20        \n",
      "                                                                 \n",
      " dense_4 (Dense)             (None, 1)                 5         \n",
      "                                                                 \n",
      "=================================================================\n",
      "Total params: 602,141\n",
      "Trainable params: 602,141\n",
      "Non-trainable params: 0\n",
      "_________________________________________________________________\n"
     ]
    }
   ],
   "source": [
    "model_2.summary()"
   ]
  },
  {
   "cell_type": "code",
   "execution_count": 14,
   "id": "ec1a831a-5f48-481e-ac0d-c276212a995a",
   "metadata": {},
   "outputs": [
    {
     "name": "stdout",
     "output_type": "stream",
     "text": [
      "Epoch 1/5\n",
      "47/47 [==============================] - 6s 121ms/step - loss: 3.2841 - accuracy: 0.6320 - val_loss: 0.5492 - val_accuracy: 0.7660\n",
      "Epoch 2/5\n",
      "47/47 [==============================] - 5s 117ms/step - loss: 1.4311 - accuracy: 0.6833 - val_loss: 0.6603 - val_accuracy: 0.7580\n",
      "Epoch 3/5\n",
      "47/47 [==============================] - 7s 142ms/step - loss: 0.9074 - accuracy: 0.7460 - val_loss: 0.5092 - val_accuracy: 0.7720\n",
      "Epoch 4/5\n",
      "47/47 [==============================] - 5s 115ms/step - loss: 0.6941 - accuracy: 0.7400 - val_loss: 1.0936 - val_accuracy: 0.6820\n",
      "Epoch 5/5\n",
      "47/47 [==============================] - 5s 116ms/step - loss: 0.4682 - accuracy: 0.8113 - val_loss: 0.4385 - val_accuracy: 0.7880\n"
     ]
    }
   ],
   "source": [
    "# extension of model_2, with more neurons in the hidden layer as well as more layers \n",
    "tf.random.set_seed(42)\n",
    "\n",
    "model_3 = tf.keras.Sequential([\n",
    "  tf.keras.layers.Flatten(input_shape=(224, 224, 3)), # dense layers expect a 1-dimensional vector as input\n",
    "  tf.keras.layers.Dense(100, activation='relu'),\n",
    "  tf.keras.layers.Dense(100, activation='relu'),\n",
    "  tf.keras.layers.Dense(100, activation='relu'),\n",
    "  tf.keras.layers.Dense(1, activation='sigmoid')\n",
    "])\n",
    "\n",
    "model_3.compile(loss='binary_crossentropy',\n",
    "                optimizer=tf.keras.optimizers.Adam(),\n",
    "                metrics=['accuracy'])\n",
    "\n",
    "history_3 = model_3.fit(train_data,\n",
    "                        epochs=5,\n",
    "                        steps_per_epoch=len(train_data),\n",
    "                        validation_data=valid_data,\n",
    "                        validation_steps=len(valid_data))"
   ]
  },
  {
   "cell_type": "code",
   "execution_count": 15,
   "id": "438ff093-3d43-4c52-9fa6-e676dbf5dc58",
   "metadata": {},
   "outputs": [
    {
     "name": "stdout",
     "output_type": "stream",
     "text": [
      "Model: \"sequential_3\"\n",
      "_________________________________________________________________\n",
      " Layer (type)                Output Shape              Param #   \n",
      "=================================================================\n",
      " flatten_3 (Flatten)         (None, 150528)            0         \n",
      "                                                                 \n",
      " dense_5 (Dense)             (None, 100)               15052900  \n",
      "                                                                 \n",
      " dense_6 (Dense)             (None, 100)               10100     \n",
      "                                                                 \n",
      " dense_7 (Dense)             (None, 100)               10100     \n",
      "                                                                 \n",
      " dense_8 (Dense)             (None, 1)                 101       \n",
      "                                                                 \n",
      "=================================================================\n",
      "Total params: 15,073,201\n",
      "Trainable params: 15,073,201\n",
      "Non-trainable params: 0\n",
      "_________________________________________________________________\n"
     ]
    }
   ],
   "source": [
    "model_3.summary()"
   ]
  },
  {
   "cell_type": "markdown",
   "id": "90969ed8-7cb9-46b3-9725-6df56b699033",
   "metadata": {},
   "source": [
    "you can see the power of CNNs compared to ANN by observing the number of parameters needed in a traditional ANN models compared to CNN's. CNN's are able to do more with far less parameters to learn."
   ]
  },
  {
   "cell_type": "markdown",
   "id": "a54b61e6-a6d1-4321-ac46-4e5f16a810f2",
   "metadata": {},
   "source": [
    "# Binary Classification: breakdown"
   ]
  },
  {
   "cell_type": "markdown",
   "id": "3b1cc92e-b779-45b3-8568-5206e9dc01ed",
   "metadata": {},
   "source": [
    "Generally, we want our beginner model to follow this paradigm:\n",
    "\n",
    "```\n",
    "Input -> Conv + ReLU layers (non-linearities) -> Pooling layer -> Fully connected (dense layer) as Output\n",
    "\n",
    "```"
   ]
  },
  {
   "cell_type": "code",
   "execution_count": 17,
   "id": "cb79cd80-932c-424c-8771-6e50d4539c65",
   "metadata": {},
   "outputs": [],
   "source": [
    "# try creating a mini model with 3 layers\n",
    "\n",
    "from tensorflow.keras.optimizers import Adam\n",
    "from tensorflow.keras.layers import Dense, Flatten, Conv2D, MaxPool2D, Activation\n",
    "from tensorflow.keras import Sequential\n",
    "\n",
    "model_4 = Sequential([\n",
    "    Conv2D(filters=10,\n",
    "           kernel_size=3,\n",
    "           strides=1,\n",
    "           padding='valid',\n",
    "           activation='relu',\n",
    "           input_shape=(224,224,3)),\n",
    "    Conv2D(10, 3, activation='relu'),\n",
    "    Conv2D(10, 3, activation='relu'),\n",
    "    Flatten(),\n",
    "    Dense(1, activation='sigmoid')\n",
    "])\n",
    "\n",
    "model_4.compile(loss='binary_crossentropy',\n",
    "                optimizer=Adam(),\n",
    "                metrics=['accuracy']\n",
    ")"
   ]
  },
  {
   "cell_type": "code",
   "execution_count": 22,
   "id": "f2352fb6-0888-4be5-bab7-bd30c84f1022",
   "metadata": {},
   "outputs": [
    {
     "name": "stdout",
     "output_type": "stream",
     "text": [
      "Epoch 1/5\n",
      "47/47 [==============================] - 6s 125ms/step - loss: 1.4253 - accuracy: 0.6513 - val_loss: 0.5072 - val_accuracy: 0.7380\n",
      "Epoch 2/5\n",
      "47/47 [==============================] - 6s 120ms/step - loss: 0.4193 - accuracy: 0.8193 - val_loss: 0.4480 - val_accuracy: 0.8000\n",
      "Epoch 3/5\n",
      "47/47 [==============================] - 6s 116ms/step - loss: 0.3309 - accuracy: 0.8767 - val_loss: 0.4083 - val_accuracy: 0.8380\n",
      "Epoch 4/5\n",
      "47/47 [==============================] - 5s 114ms/step - loss: 0.2005 - accuracy: 0.9347 - val_loss: 0.5056 - val_accuracy: 0.7760\n",
      "Epoch 5/5\n",
      "47/47 [==============================] - 5s 115ms/step - loss: 0.0920 - accuracy: 0.9787 - val_loss: 0.4067 - val_accuracy: 0.8340\n"
     ]
    }
   ],
   "source": [
    "# Fit the model\n",
    "history_4 = model_4.fit(train_data,\n",
    "                        epochs=5,\n",
    "                        steps_per_epoch=len(train_data),\n",
    "                        validation_data=test_data,\n",
    "                        validation_steps=len(test_data))"
   ]
  },
  {
   "cell_type": "code",
   "execution_count": 23,
   "id": "03c31e52-811e-4321-83f6-14175cc265d7",
   "metadata": {},
   "outputs": [
    {
     "data": {
      "text/plain": [
       "<AxesSubplot:>"
      ]
     },
     "execution_count": 23,
     "metadata": {},
     "output_type": "execute_result"
    },
    {
     "data": {
      "image/png": "[encoded data removed]",
      "text/plain": [
       "<Figure size 720x504 with 1 Axes>"
      ]
     },
     "metadata": {
      "needs_background": "light"
     },
     "output_type": "display_data"
    }
   ],
   "source": [
    "import pandas as pd\n",
    "pd.DataFrame(history_4.history).plot(figsize=(10,7))"
   ]
  },
  {
   "cell_type": "markdown",
   "id": "bdb6fd0e-7c47-4f31-9dd2-9ea498690b6e",
   "metadata": {},
   "source": [
    "We see evidences of \"overfitting\", this can be observed by an increasing 'val_loss'"
   ]
  },
  {
   "cell_type": "code",
   "execution_count": 24,
   "id": "4592695e-cfa2-44da-96f8-3ffe1f7d0c65",
   "metadata": {},
   "outputs": [],
   "source": [
    "# Plot the validation and training data separately\n",
    "def plot_loss_curves(history):\n",
    "    \"\"\"\n",
    "    Returns separate loss curves for training and validation metrics.\n",
    "    \"\"\" \n",
    "    loss = history.history['loss']\n",
    "    val_loss = history.history['val_loss']\n",
    "\n",
    "    accuracy = history.history['accuracy']\n",
    "    val_accuracy = history.history['val_accuracy']\n",
    "\n",
    "    epochs = range(len(history.history['loss']))\n",
    "\n",
    "    # Plot loss\n",
    "    plt.plot(epochs, loss, label='training_loss')\n",
    "    plt.plot(epochs, val_loss, label='val_loss')\n",
    "    plt.title('Loss')\n",
    "    plt.xlabel('Epochs')\n",
    "    plt.legend()\n",
    "\n",
    "    # Plot accuracy\n",
    "    plt.figure()\n",
    "    plt.plot(epochs, accuracy, label='training_accuracy')\n",
    "    plt.plot(epochs, val_accuracy, label='val_accuracy')\n",
    "    plt.title('Accuracy')\n",
    "    plt.xlabel('Epochs')\n",
    "    plt.legend();"
   ]
  },
  {
   "cell_type": "code",
   "execution_count": 27,
   "id": "bf946291-cb4b-4ea6-bcba-7e465b85d9b6",
   "metadata": {},
   "outputs": [
    {
     "data": {
      "image/png": "[encoded data removed]",
      "text/plain": [
       "<Figure size 432x288 with 1 Axes>"
      ]
     },
     "metadata": {
      "needs_background": "light"
     },
     "output_type": "display_data"
    },
    {
     "data": {
      "image/png": "[encoded data removed]",
      "text/plain": [
       "<Figure size 432x288 with 1 Axes>"
      ]
     },
     "metadata": {
      "needs_background": "light"
     },
     "output_type": "display_data"
    }
   ],
   "source": [
    "plot_loss_curves(history_4)"
   ]
  },
  {
   "cell_type": "markdown",
   "id": "fed99b32-8419-47ef-bc6c-dbe483a7e6a5",
   "metadata": {},
   "source": [
    "One way to prevent overfitting in Computer Vision is to add data augmentation"
   ]
  },
  {
   "cell_type": "code",
   "execution_count": 28,
   "id": "f6586105-1d1e-474c-b87b-252e1f188ec3",
   "metadata": {},
   "outputs": [],
   "source": [
    "# Create ImageDataGenerator training instance with data augmentation\n",
    "train_datagen_augmented = ImageDataGenerator(rescale=1/255.,\n",
    "                                             rotation_range=20, # rotate the image slightly between 0 and 20 degrees (note: this is an int not a float)\n",
    "                                             shear_range=0.2, # shear the image\n",
    "                                             zoom_range=0.2, # zoom into the image\n",
    "                                             width_shift_range=0.2, # shift the image width ways\n",
    "                                             height_shift_range=0.2, # shift the image height ways\n",
    "                                             horizontal_flip=True) # flip the image on the horizontal axis\n",
    "\n",
    "# Create ImageDataGenerator training instance without data augmentation\n",
    "train_datagen = ImageDataGenerator(rescale=1/255.) \n",
    "\n",
    "# Create ImageDataGenerator test instance without data augmentation\n",
    "test_datagen = ImageDataGenerator(rescale=1/255.)"
   ]
  },
  {
   "cell_type": "code",
   "execution_count": 29,
   "id": "480641f2-ed90-42c8-9cf4-567a23f9552a",
   "metadata": {},
   "outputs": [
    {
     "name": "stdout",
     "output_type": "stream",
     "text": [
      "Augmented training images:\n",
      "Found 1500 images belonging to 2 classes.\n",
      "Non-augmented training images:\n",
      "Found 1500 images belonging to 2 classes.\n",
      "Unchanged test images:\n",
      "Found 500 images belonging to 2 classes.\n"
     ]
    }
   ],
   "source": [
    "# Import data and augment it from training directory\n",
    "print(\"Augmented training images:\")\n",
    "train_data_augmented = train_datagen_augmented.flow_from_directory(train_dir,\n",
    "                                                                   target_size=(224, 224),\n",
    "                                                                   batch_size=32,\n",
    "                                                                   class_mode='binary',\n",
    "                                                                   shuffle=False) # Don't shuffle for demonstration purposes, usually a good thing to shuffle\n",
    "\n",
    "# Create non-augmented data batches\n",
    "print(\"Non-augmented training images:\")\n",
    "train_data = train_datagen.flow_from_directory(train_dir,\n",
    "                                               target_size=(224, 224),\n",
    "                                               batch_size=32,\n",
    "                                               class_mode='binary',\n",
    "                                               shuffle=False) # Don't shuffle for demonstration purposes\n",
    "\n",
    "print(\"Unchanged test images:\")\n",
    "test_data = test_datagen.flow_from_directory(test_dir,\n",
    "                                             target_size=(224, 224),\n",
    "                                             batch_size=32,\n",
    "                                             class_mode='binary')"
   ]
  },
  {
   "cell_type": "code",
   "execution_count": 36,
   "id": "1f4219df-6576-4574-a565-c714d763d30b",
   "metadata": {},
   "outputs": [
    {
     "name": "stdout",
     "output_type": "stream",
     "text": [
      "Epoch 1/5\n",
      "47/47 [==============================] - 18s 375ms/step - loss: 0.7889 - accuracy: 0.4027 - val_loss: 0.6864 - val_accuracy: 0.5100\n",
      "Epoch 2/5\n",
      "47/47 [==============================] - 17s 370ms/step - loss: 0.6912 - accuracy: 0.4987 - val_loss: 0.6802 - val_accuracy: 0.5200\n",
      "Epoch 3/5\n",
      "47/47 [==============================] - 18s 375ms/step - loss: 0.6894 - accuracy: 0.5693 - val_loss: 0.6768 - val_accuracy: 0.6240\n",
      "Epoch 4/5\n",
      "47/47 [==============================] - 17s 369ms/step - loss: 0.6829 - accuracy: 0.5840 - val_loss: 0.6717 - val_accuracy: 0.5080\n",
      "Epoch 5/5\n",
      "47/47 [==============================] - 18s 372ms/step - loss: 0.6665 - accuracy: 0.6080 - val_loss: 0.6154 - val_accuracy: 0.7560\n"
     ]
    }
   ],
   "source": [
    "model_6 = Sequential([\n",
    "    Conv2D(10, 3, activation='relu', input_shape=(224,224,3)),\n",
    "    MaxPool2D(pool_size=2),\n",
    "    Conv2D(10, 3, activation='relu'),\n",
    "    MaxPool2D(),\n",
    "    Conv2D(10, 3, activation='relu'),\n",
    "    MaxPool2D(),\n",
    "    Flatten(),\n",
    "    Dense(1, activation='sigmoid')\n",
    "])\n",
    "\n",
    "# Compile the model\n",
    "model_6.compile(loss='binary_crossentropy',\n",
    "                optimizer=Adam(),\n",
    "                metrics=['accuracy'])\n",
    "\n",
    "# Fit the model\n",
    "history_6 = model_6.fit(train_data_augmented, # changed to augmented training data\n",
    "                        epochs=5,\n",
    "                        steps_per_epoch=len(train_data_augmented),\n",
    "                        validation_data=test_data,\n",
    "                        validation_steps=len(test_data))"
   ]
  },
  {
   "cell_type": "code",
   "execution_count": 37,
   "id": "e18892a2-ceb4-4483-a40d-bc777fa23717",
   "metadata": {},
   "outputs": [
    {
     "data": {
      "image/png": "[encoded data removed]",
      "text/plain": [
       "<Figure size 432x288 with 1 Axes>"
      ]
     },
     "metadata": {
      "needs_background": "light"
     },
     "output_type": "display_data"
    },
    {
     "data": {
      "image/png": "[encoded data removed]",
      "text/plain": [
       "<Figure size 432x288 with 1 Axes>"
      ]
     },
     "metadata": {
      "needs_background": "light"
     },
     "output_type": "display_data"
    }
   ],
   "source": [
    "plot_loss_curves(history_6)"
   ]
  },
  {
   "cell_type": "code",
   "execution_count": 38,
   "id": "e24e02b1-6356-49f3-b8e6-5edfe2f8bb5d",
   "metadata": {},
   "outputs": [
    {
     "name": "stdout",
     "output_type": "stream",
     "text": [
      "Found 1500 images belonging to 2 classes.\n",
      "Epoch 1/5\n",
      "47/47 [==============================] - 18s 376ms/step - loss: 0.6458 - accuracy: 0.6273 - val_loss: 0.5004 - val_accuracy: 0.7700\n",
      "Epoch 2/5\n",
      "47/47 [==============================] - 17s 370ms/step - loss: 0.5299 - accuracy: 0.7493 - val_loss: 0.4126 - val_accuracy: 0.8020\n",
      "Epoch 3/5\n",
      "47/47 [==============================] - 17s 371ms/step - loss: 0.4934 - accuracy: 0.7707 - val_loss: 0.3471 - val_accuracy: 0.8660\n",
      "Epoch 4/5\n",
      "47/47 [==============================] - 18s 373ms/step - loss: 0.4676 - accuracy: 0.7927 - val_loss: 0.3988 - val_accuracy: 0.8160\n",
      "Epoch 5/5\n",
      "47/47 [==============================] - 17s 366ms/step - loss: 0.4748 - accuracy: 0.7833 - val_loss: 0.3384 - val_accuracy: 0.8840\n"
     ]
    }
   ],
   "source": [
    "# Import data and augment it from directories\n",
    "train_data_augmented_shuffled = train_datagen_augmented.flow_from_directory(train_dir,\n",
    "                                                                            target_size=(224, 224),\n",
    "                                                                            batch_size=32,\n",
    "                                                                            class_mode='binary',\n",
    "                                                                            shuffle=True)\n",
    "\n",
    "# Create the model (same as model_5 and model_6)\n",
    "model_7 = Sequential([\n",
    "  Conv2D(10, 3, activation='relu', input_shape=(224, 224, 3)),\n",
    "  MaxPool2D(),\n",
    "  Conv2D(10, 3, activation='relu'),\n",
    "  MaxPool2D(),\n",
    "  Conv2D(10, 3, activation='relu'),\n",
    "  MaxPool2D(),\n",
    "  Flatten(),\n",
    "  Dense(1, activation='sigmoid')\n",
    "])\n",
    "\n",
    "# Compile the model\n",
    "model_7.compile(loss='binary_crossentropy',\n",
    "                optimizer=Adam(),\n",
    "                metrics=['accuracy'])\n",
    "\n",
    "# Fit the model\n",
    "history_7 = model_7.fit(train_data_augmented_shuffled, # now the augmented data is shuffled\n",
    "                        epochs=5,\n",
    "                        steps_per_epoch=len(train_data_augmented_shuffled),\n",
    "                        validation_data=test_data,\n",
    "                        validation_steps=len(test_data))"
   ]
  },
  {
   "cell_type": "code",
   "execution_count": 39,
   "id": "88c032ba-7830-4781-9184-f4fc6113e2e2",
   "metadata": {},
   "outputs": [
    {
     "data": {
      "image/png": "[encoded data removed]",
      "text/plain": [
       "<Figure size 432x288 with 1 Axes>"
      ]
     },
     "metadata": {
      "needs_background": "light"
     },
     "output_type": "display_data"
    },
    {
     "data": {
      "image/png": "[encoded data removed]",
      "text/plain": [
       "<Figure size 432x288 with 1 Axes>"
      ]
     },
     "metadata": {
      "needs_background": "light"
     },
     "output_type": "display_data"
    }
   ],
   "source": [
    "plot_loss_curves(history_7)"
   ]
  },
  {
   "cell_type": "markdown",
   "id": "ca24e7b1-6e4d-4afd-8356-681c56049f5c",
   "metadata": {},
   "source": [
    "## Tactics for improving model performance\n",
    "\n",
    "Since we've already beaten our baseline, there are a few things we could try to continue to improve our model:\n",
    "\n",
    "* Increase the number of model layers (e.g. add more convolutional layers).\n",
    "* Increase the number of filters in each convolutional layer (e.g. from 10 to 32, 64, or 128, these numbers aren't set in stone either, they are usually found through trial and error).\n",
    "* Train for longer (more epochs).\n",
    "* Finding an ideal learning rate.\n",
    "* Get more data (give the model more opportunities to learn).\n",
    "* Use transfer learning to leverage what another image model has learned and adjust it for our own use case.\n",
    "\n",
    "Adjusting each of these settings (except for the last two) during model development is usually referred to as hyperparameter tuning."
   ]
  },
  {
   "cell_type": "code",
   "execution_count": 40,
   "id": "e856543b-206d-4d24-abf4-a47592bf619d",
   "metadata": {},
   "outputs": [
    {
     "name": "stdout",
     "output_type": "stream",
     "text": [
      "Epoch 1/5\n",
      "47/47 [==============================] - 18s 377ms/step - loss: 0.6172 - accuracy: 0.6580 - val_loss: 0.6368 - val_accuracy: 0.6980\n",
      "Epoch 2/5\n",
      "47/47 [==============================] - 18s 374ms/step - loss: 0.5189 - accuracy: 0.7440 - val_loss: 0.3887 - val_accuracy: 0.8300\n",
      "Epoch 3/5\n",
      "47/47 [==============================] - 17s 369ms/step - loss: 0.4910 - accuracy: 0.7720 - val_loss: 0.4051 - val_accuracy: 0.8180\n",
      "Epoch 4/5\n",
      "47/47 [==============================] - 17s 368ms/step - loss: 0.5312 - accuracy: 0.7400 - val_loss: 0.3847 - val_accuracy: 0.8380\n",
      "Epoch 5/5\n",
      "47/47 [==============================] - 17s 371ms/step - loss: 0.4801 - accuracy: 0.7673 - val_loss: 0.3306 - val_accuracy: 0.8560\n"
     ]
    }
   ],
   "source": [
    "# trying to train for more epochs\n",
    "\n",
    "# baseline 5 epochs\n",
    "# Create a CNN model (same as Tiny VGG but for binary classification - https://poloclub.github.io/cnn-explainer/ )\n",
    "model_8 = Sequential([\n",
    "  Conv2D(10, 3, activation='relu', input_shape=(224, 224, 3)), # same input shape as our images\n",
    "  Conv2D(10, 3, activation='relu'),\n",
    "  MaxPool2D(),\n",
    "  Conv2D(10, 3, activation='relu'),\n",
    "  Conv2D(10, 3, activation='relu'),\n",
    "  MaxPool2D(),\n",
    "  Flatten(),\n",
    "  Dense(1, activation='sigmoid')\n",
    "])\n",
    "\n",
    "# Compile the model\n",
    "model_8.compile(loss=\"binary_crossentropy\",\n",
    "                optimizer=tf.keras.optimizers.Adam(),\n",
    "                metrics=[\"accuracy\"])\n",
    "\n",
    "# Fit the model\n",
    "history_8 = model_8.fit(train_data_augmented_shuffled,\n",
    "                        epochs=5,\n",
    "                        steps_per_epoch=len(train_data_augmented_shuffled),\n",
    "                        validation_data=test_data,\n",
    "                        validation_steps=len(test_data))"
   ]
  },
  {
   "cell_type": "code",
   "execution_count": 42,
   "id": "feab23db-2227-4e85-b485-cd7a2157e89c",
   "metadata": {},
   "outputs": [
    {
     "name": "stdout",
     "output_type": "stream",
     "text": [
      "Epoch 1/10\n",
      "47/47 [==============================] - 18s 376ms/step - loss: 0.6275 - accuracy: 0.6467 - val_loss: 0.4290 - val_accuracy: 0.8060\n",
      "Epoch 2/10\n",
      "47/47 [==============================] - 18s 379ms/step - loss: 0.5183 - accuracy: 0.7533 - val_loss: 0.3913 - val_accuracy: 0.8340\n",
      "Epoch 3/10\n",
      "47/47 [==============================] - 17s 368ms/step - loss: 0.4744 - accuracy: 0.7840 - val_loss: 0.3579 - val_accuracy: 0.8540\n",
      "Epoch 4/10\n",
      "47/47 [==============================] - 18s 376ms/step - loss: 0.4602 - accuracy: 0.7853 - val_loss: 0.3536 - val_accuracy: 0.8440\n",
      "Epoch 5/10\n",
      "47/47 [==============================] - 17s 371ms/step - loss: 0.4548 - accuracy: 0.7853 - val_loss: 0.3311 - val_accuracy: 0.8640\n",
      "Epoch 6/10\n",
      "47/47 [==============================] - 17s 369ms/step - loss: 0.4601 - accuracy: 0.8000 - val_loss: 0.5979 - val_accuracy: 0.7320\n",
      "Epoch 7/10\n",
      "47/47 [==============================] - 17s 368ms/step - loss: 0.4353 - accuracy: 0.8113 - val_loss: 0.3058 - val_accuracy: 0.8720\n",
      "Epoch 8/10\n",
      "47/47 [==============================] - 18s 373ms/step - loss: 0.4444 - accuracy: 0.8047 - val_loss: 0.3448 - val_accuracy: 0.8380\n",
      "Epoch 9/10\n",
      "47/47 [==============================] - 18s 374ms/step - loss: 0.4457 - accuracy: 0.8000 - val_loss: 0.3342 - val_accuracy: 0.8660\n",
      "Epoch 10/10\n",
      "47/47 [==============================] - 17s 366ms/step - loss: 0.4450 - accuracy: 0.8033 - val_loss: 0.5625 - val_accuracy: 0.7340\n"
     ]
    }
   ],
   "source": [
    "# experiment: 10 epochs\n",
    "# Create a CNN model (same as Tiny VGG but for binary classification - https://poloclub.github.io/cnn-explainer/ )\n",
    "model_8 = Sequential([\n",
    "  Conv2D(10, 3, activation='relu', input_shape=(224, 224, 3)), # same input shape as our images\n",
    "  Conv2D(10, 3, activation='relu'),\n",
    "  MaxPool2D(),\n",
    "  Conv2D(10, 3, activation='relu'),\n",
    "  Conv2D(10, 3, activation='relu'),\n",
    "  MaxPool2D(),\n",
    "  Flatten(),\n",
    "  Dense(1, activation='sigmoid')\n",
    "])\n",
    "\n",
    "# Compile the model\n",
    "model_8.compile(loss=\"binary_crossentropy\",\n",
    "                optimizer=tf.keras.optimizers.Adam(),\n",
    "                metrics=[\"accuracy\"])\n",
    "\n",
    "# Fit the model\n",
    "history_8 = model_8.fit(train_data_augmented_shuffled,\n",
    "                        epochs=10,\n",
    "                        steps_per_epoch=len(train_data_augmented_shuffled),\n",
    "                        validation_data=test_data,\n",
    "                        validation_steps=len(test_data))"
   ]
  },
  {
   "cell_type": "markdown",
   "id": "2f71013c-d516-4f6b-8260-60abad200610",
   "metadata": {},
   "source": [
    "Observation: accuracy does not seem to go over the ~81% mark. There is about a 5% accuracy improvement from the 5 epoch model. This seems to mean that we are overfitting our model. Try adding dropouts and see if it helps.\n"
   ]
  },
  {
   "cell_type": "code",
   "execution_count": 43,
   "id": "7d9bc37b-0e09-4cd3-b0b0-8ae9dcba7066",
   "metadata": {},
   "outputs": [
    {
     "name": "stdout",
     "output_type": "stream",
     "text": [
      "Epoch 1/10\n",
      "47/47 [==============================] - 18s 380ms/step - loss: 0.6441 - accuracy: 0.6447 - val_loss: 0.6300 - val_accuracy: 0.6980\n",
      "Epoch 2/10\n",
      "47/47 [==============================] - 18s 373ms/step - loss: 0.5650 - accuracy: 0.7193 - val_loss: 0.6028 - val_accuracy: 0.7300\n",
      "Epoch 3/10\n",
      "47/47 [==============================] - 17s 366ms/step - loss: 0.5727 - accuracy: 0.7053 - val_loss: 0.6156 - val_accuracy: 0.7440\n",
      "Epoch 4/10\n",
      "47/47 [==============================] - 18s 373ms/step - loss: 0.5466 - accuracy: 0.7267 - val_loss: 0.5981 - val_accuracy: 0.7760\n",
      "Epoch 5/10\n",
      "47/47 [==============================] - 18s 374ms/step - loss: 0.5591 - accuracy: 0.7147 - val_loss: 0.6116 - val_accuracy: 0.7580\n",
      "Epoch 6/10\n",
      "47/47 [==============================] - 17s 372ms/step - loss: 0.5322 - accuracy: 0.7260 - val_loss: 0.5911 - val_accuracy: 0.7620\n",
      "Epoch 7/10\n",
      "47/47 [==============================] - 18s 393ms/step - loss: 0.5444 - accuracy: 0.7287 - val_loss: 0.6583 - val_accuracy: 0.6060\n",
      "Epoch 8/10\n",
      "47/47 [==============================] - 18s 375ms/step - loss: 0.5388 - accuracy: 0.7267 - val_loss: 0.6039 - val_accuracy: 0.8020\n",
      "Epoch 9/10\n",
      "47/47 [==============================] - 17s 371ms/step - loss: 0.5314 - accuracy: 0.7487 - val_loss: 0.6057 - val_accuracy: 0.7480\n",
      "Epoch 10/10\n",
      "47/47 [==============================] - 18s 375ms/step - loss: 0.5340 - accuracy: 0.7453 - val_loss: 0.6073 - val_accuracy: 0.7900\n"
     ]
    }
   ],
   "source": [
    "from tensorflow.keras.layers import Dropout\n",
    "\n",
    "# experiment: 10 epochs with dropouts\n",
    "# Create a CNN model (same as Tiny VGG but for binary classification - https://poloclub.github.io/cnn-explainer/ )\n",
    "model_8 = Sequential([\n",
    "  Conv2D(10, 3, activation='relu', input_shape=(224, 224, 3)), # same input shape as our images\n",
    "  Dropout(0.5),\n",
    "  Conv2D(10, 3, activation='relu'),\n",
    "  MaxPool2D(),\n",
    "  Conv2D(10, 3, activation='relu'),\n",
    "  Dropout(0.5),\n",
    "  Conv2D(10, 3, activation='relu'),\n",
    "  MaxPool2D(),\n",
    "  Flatten(),\n",
    "  Dense(1, activation='sigmoid')\n",
    "])\n",
    "\n",
    "# Compile the model\n",
    "model_8.compile(loss=\"binary_crossentropy\",\n",
    "                optimizer=tf.keras.optimizers.Adam(),\n",
    "                metrics=[\"accuracy\"])\n",
    "\n",
    "# Fit the model\n",
    "history_8 = model_8.fit(train_data_augmented_shuffled,\n",
    "                        epochs=10,\n",
    "                        steps_per_epoch=len(train_data_augmented_shuffled),\n",
    "                        validation_data=test_data,\n",
    "                        validation_steps=len(test_data))"
   ]
  },
  {
   "cell_type": "markdown",
   "id": "cb8710f7-d682-485e-b759-e4a02a3aeb8a",
   "metadata": {},
   "source": [
    "That did not help! Need to think about how to improve accuracy"
   ]
  },
  {
   "cell_type": "markdown",
   "id": "2d14be28-8b2e-4e92-a03f-d9f40705480d",
   "metadata": {},
   "source": [
    "## Multiclass Classification"
   ]
  },
  {
   "cell_type": "code",
   "execution_count": 44,
   "id": "c4572bb4-5bfd-48ed-8d53-8786c9c264f3",
   "metadata": {},
   "outputs": [
    {
     "name": "stdout",
     "output_type": "stream",
     "text": [
      "--2022-04-02 02:23:12--  https://storage.googleapis.com/ztm_tf_course/food_vision/10_food_classes_all_data.zip\n",
      "Resolving storage.googleapis.com (storage.googleapis.com)... 172.253.62.128, 142.251.45.112, 172.217.15.80, ...\n",
      "Connecting to storage.googleapis.com (storage.googleapis.com)|172.253.62.128|:443... connected.\n",
      "HTTP request sent, awaiting response... 200 OK\n",
      "Length: 519183241 (495M) [application/zip]\n",
      "Saving to: ‘10_food_classes_all_data.zip’\n",
      "\n",
      "10_food_classes_all 100%[===================>] 495.13M  21.7MB/s    in 22s     \n",
      "\n",
      "2022-04-02 02:23:35 (22.1 MB/s) - ‘10_food_classes_all_data.zip’ saved [519183241/519183241]\n",
      "\n"
     ]
    }
   ],
   "source": [
    "import zipfile\n",
    "\n",
    "# Download zip file of 10_food_classes images\n",
    "# See how this data was created - https://github.com/mrdbourke/tensorflow-deep-learning/blob/main/extras/image_data_modification.ipynb\n",
    "!wget https://storage.googleapis.com/ztm_tf_course/food_vision/10_food_classes_all_data.zip \n",
    "\n",
    "# Unzip the downloaded file\n",
    "zip_ref = zipfile.ZipFile(\"10_food_classes_all_data.zip\", \"r\")\n",
    "zip_ref.extractall()\n",
    "zip_ref.close()"
   ]
  },
  {
   "cell_type": "code",
   "execution_count": 45,
   "id": "eb51f375-a0b2-4d1c-ba8b-9921b6425d4f",
   "metadata": {},
   "outputs": [],
   "source": [
    "train_dir = \"10_food_classes_all_data/train/\"\n",
    "test_dir = \"10_food_classes_all_data/test/\""
   ]
  },
  {
   "cell_type": "code",
   "execution_count": 46,
   "id": "c343808b-b5ff-47e3-a0f0-4871bde6f6ff",
   "metadata": {},
   "outputs": [
    {
     "name": "stdout",
     "output_type": "stream",
     "text": [
      "['chicken_curry' 'chicken_wings' 'fried_rice' 'grilled_salmon' 'hamburger'\n",
      " 'ice_cream' 'pizza' 'ramen' 'steak' 'sushi']\n"
     ]
    }
   ],
   "source": [
    "import pathlib\n",
    "import numpy as np\n",
    "data_dir = pathlib.Path(train_dir)\n",
    "class_names = np.array(sorted([item.name for item in data_dir.glob('*')]))\n",
    "print(class_names)"
   ]
  },
  {
   "cell_type": "code",
   "execution_count": 47,
   "id": "2c833156-2f40-4809-a943-ef5be4ac5b84",
   "metadata": {},
   "outputs": [
    {
     "name": "stdout",
     "output_type": "stream",
     "text": [
      "Found 7500 images belonging to 10 classes.\n",
      "Found 2500 images belonging to 10 classes.\n"
     ]
    }
   ],
   "source": [
    "from tensorflow.keras.preprocessing.image import ImageDataGenerator\n",
    "\n",
    "# Rescale the data and create data generator instances\n",
    "train_datagen = ImageDataGenerator(rescale=1/255.)\n",
    "test_datagen = ImageDataGenerator(rescale=1/255.)\n",
    "\n",
    "# Load data in from directories and turn it into batches\n",
    "train_data = train_datagen.flow_from_directory(train_dir,\n",
    "                                               target_size=(224, 224),\n",
    "                                               batch_size=32,\n",
    "                                               class_mode='categorical') # changed to categorical\n",
    "\n",
    "test_data = train_datagen.flow_from_directory(test_dir,\n",
    "                                              target_size=(224, 224),\n",
    "                                              batch_size=32,\n",
    "                                              class_mode='categorical')"
   ]
  },
  {
   "cell_type": "code",
   "execution_count": 48,
   "id": "9ca86cab-3442-47bc-9163-381e0877418d",
   "metadata": {},
   "outputs": [],
   "source": [
    "import tensorflow as tf\n",
    "from tensorflow.keras.models import Sequential\n",
    "from tensorflow.keras.layers import Conv2D, MaxPool2D, Flatten, Dense\n",
    "\n",
    "# Create our model (a clone of model_8, except to be multi-class)\n",
    "model_9 = Sequential([\n",
    "  Conv2D(10, 3, activation='relu', input_shape=(224, 224, 3)),\n",
    "  Conv2D(10, 3, activation='relu'),\n",
    "  MaxPool2D(),\n",
    "  Conv2D(10, 3, activation='relu'),\n",
    "  Conv2D(10, 3, activation='relu'),\n",
    "  MaxPool2D(),\n",
    "  Flatten(),\n",
    "  Dense(10, activation='softmax') # changed to have 10 neurons (same as number of classes) and 'softmax' activation\n",
    "])\n",
    "\n",
    "# Compile the model\n",
    "model_9.compile(loss=\"categorical_crossentropy\", # changed to categorical_crossentropy\n",
    "                optimizer=tf.keras.optimizers.Adam(),\n",
    "                metrics=[\"accuracy\"])"
   ]
  },
  {
   "cell_type": "code",
   "execution_count": 49,
   "id": "f0252fbe-c5f0-4905-857f-2b1f35c660d6",
   "metadata": {},
   "outputs": [
    {
     "name": "stdout",
     "output_type": "stream",
     "text": [
      "Epoch 1/5\n",
      "235/235 [==============================] - 27s 112ms/step - loss: 2.0972 - accuracy: 0.2443 - val_loss: 1.9327 - val_accuracy: 0.3100\n",
      "Epoch 2/5\n",
      "235/235 [==============================] - 27s 114ms/step - loss: 1.8309 - accuracy: 0.3677 - val_loss: 1.8687 - val_accuracy: 0.3560\n",
      "Epoch 3/5\n",
      "235/235 [==============================] - 26s 112ms/step - loss: 1.5488 - accuracy: 0.4839 - val_loss: 1.8706 - val_accuracy: 0.3536\n",
      "Epoch 4/5\n",
      "235/235 [==============================] - 27s 114ms/step - loss: 1.0079 - accuracy: 0.6695 - val_loss: 2.2690 - val_accuracy: 0.2884\n",
      "Epoch 5/5\n",
      "235/235 [==============================] - 27s 113ms/step - loss: 0.4879 - accuracy: 0.8529 - val_loss: 3.1557 - val_accuracy: 0.2880\n"
     ]
    }
   ],
   "source": [
    "# Fit the model\n",
    "history_9 = model_9.fit(train_data, # now 10 different classes \n",
    "                        epochs=5,\n",
    "                        steps_per_epoch=len(train_data),\n",
    "                        validation_data=test_data,\n",
    "                        validation_steps=len(test_data))"
   ]
  },
  {
   "cell_type": "code",
   "execution_count": null,
   "id": "932ca354-4659-4dd2-81ed-355689c4211f",
   "metadata": {},
   "outputs": [],
   "source": []
  }
 ],
 "metadata": {
  "kernelspec": {
   "display_name": "Python 3 (ipykernel)",
   "language": "python",
   "name": "python3"
  },
  "language_info": {
   "codemirror_mode": {
    "name": "ipython",
    "version": 3
   },
   "file_extension": ".py",
   "mimetype": "text/x-python",
   "name": "python",
   "nbconvert_exporter": "python",
   "pygments_lexer": "ipython3",
   "version": "3.8.10"
  }
 },
 "nbformat": 4,
 "nbformat_minor": 5
}
